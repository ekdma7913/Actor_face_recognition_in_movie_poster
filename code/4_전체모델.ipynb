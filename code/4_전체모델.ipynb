{
 "cells": [
  {
   "cell_type": "code",
   "execution_count": 1,
   "id": "b3ebe0cf",
   "metadata": {
    "ExecuteTime": {
     "end_time": "2022-01-28T00:41:34.648233Z",
     "start_time": "2022-01-28T00:41:23.164799Z"
    }
   },
   "outputs": [],
   "source": [
    "import os\n",
    "import numpy as np\n",
    "from PIL import Image\n",
    "import random\n",
    "from matplotlib import pyplot as plt\n",
    "from tensorflow import keras"
   ]
  },
  {
   "cell_type": "code",
   "execution_count": 2,
   "id": "c29637c0",
   "metadata": {
    "ExecuteTime": {
     "end_time": "2022-01-28T00:41:34.757195Z",
     "start_time": "2022-01-28T00:41:34.653893Z"
    }
   },
   "outputs": [],
   "source": [
    "import cv2\n",
    "import numpy as np"
   ]
  },
  {
   "cell_type": "code",
   "execution_count": 11,
   "id": "b2a448b2",
   "metadata": {
    "ExecuteTime": {
     "end_time": "2022-01-04T02:13:09.115102Z",
     "start_time": "2022-01-04T02:13:09.060214Z"
    }
   },
   "outputs": [],
   "source": [
    "# 이미지 불러오기(한번만)\n",
    "path = 'data/류승룡/'\n",
    "file_list = os.listdir(path)\n",
    "\n",
    "for A in file_list:\n",
    "    if A == \".DS_Store\":\n",
    "        continue\n",
    "    img = cv2.imread(path + A)\n",
    "    res = cv2.resize(img, dsize=(60, 60), interpolation=cv2.INTER_CUBIC)\n",
    "    cv2.imwrite('data/류승룡/'+ A, res)"
   ]
  },
  {
   "cell_type": "code",
   "execution_count": 12,
   "id": "b78cacba",
   "metadata": {
    "ExecuteTime": {
     "end_time": "2022-01-04T02:13:16.044906Z",
     "start_time": "2022-01-04T02:13:15.988079Z"
    }
   },
   "outputs": [],
   "source": [
    "# 이미지 불러오기2(한번만)\n",
    "path = 'data/오달수/'\n",
    "file_list = os.listdir(path)\n",
    "\n",
    "for A in file_list:\n",
    "    if A == \".DS_Store\":\n",
    "        continue\n",
    "    img = cv2.imread(path + A)\n",
    "    res2 = cv2.resize(img, dsize=(60,60), interpolation=cv2.INTER_CUBIC)\n",
    "    cv2.imwrite('data/오달수/'+ A, res)"
   ]
  },
  {
   "cell_type": "code",
   "execution_count": 5,
   "id": "853149ca",
   "metadata": {
    "ExecuteTime": {
     "end_time": "2022-01-04T03:17:09.317048Z",
     "start_time": "2022-01-04T03:17:09.205121Z"
    }
   },
   "outputs": [],
   "source": [
    "# 이미지 불러오기3(한번만)\n",
    "path = 'data/이정재/'\n",
    "file_list = os.listdir(path)\n",
    "\n",
    "for A in file_list:\n",
    "    if A == \".DS_Store\":\n",
    "        continue\n",
    "    img = cv2.imread(path + A)\n",
    "    res3 = cv2.resize(img, dsize=(60, 60), interpolation=cv2.INTER_CUBIC)\n",
    "    cv2.imwrite('data/이정재/'+ A, res3)"
   ]
  },
  {
   "cell_type": "code",
   "execution_count": 54,
   "id": "6130b86d",
   "metadata": {
    "ExecuteTime": {
     "end_time": "2022-01-06T22:51:46.373312Z",
     "start_time": "2022-01-06T22:51:46.336022Z"
    }
   },
   "outputs": [],
   "source": [
    "# 이미지 불러오기3(한번만_포스터)\n",
    "path = 'data/poster/'\n",
    "file_list = os.listdir(path)\n",
    "\n",
    "for A in file_list:\n",
    "    if A == \".DS_Store\":\n",
    "        continue\n",
    "    img = cv2.imread(path + A)\n",
    "    res3 = cv2.resize(img, dsize=(60, 60), interpolation=cv2.INTER_CUBIC)\n",
    "    cv2.imwrite('data/poster/'+ A, res3)"
   ]
  },
  {
   "cell_type": "code",
   "execution_count": 3,
   "id": "709b127f",
   "metadata": {
    "ExecuteTime": {
     "end_time": "2022-01-04T07:20:26.590445Z",
     "start_time": "2022-01-04T07:20:25.974285Z"
    }
   },
   "outputs": [],
   "source": [
    "## 이미지 불러와서 이미지 크기를 60*90 으로 이미지 조절\n",
    "# 위 함수들 자동화함\n",
    "# data_after 전체파일들을 그대로 data에 잘라 붙여넣기\n",
    "all_files = os.listdir(\"data/\")\n",
    "all_files.remove(\".DS_Store\")\n",
    "\n",
    "#people = [\"오달수\",\"류승룡\",\"송강호\",\"정진영\",\"유해진\",\"하정우\",\"설경구\",\"이정재\",\"전지현\",\"황정민\",\"김향기\",\"마동석\"]\n",
    "\n",
    "for x in all_files:\n",
    "    path = 'data/'+x+'/'\n",
    "    file_list = os.listdir(path)\n",
    "\n",
    "    for A in file_list:\n",
    "        if A == \".DS_Store\":\n",
    "            continue\n",
    "        img = cv2.imread(path + A)\n",
    "        res = cv2.resize(img, dsize=(60, 60), interpolation=cv2.INTER_CUBIC)\n",
    "        cv2.imwrite(path + A, res)"
   ]
  },
  {
   "cell_type": "code",
   "execution_count": 3,
   "id": "8107cab2",
   "metadata": {
    "ExecuteTime": {
     "end_time": "2022-01-06T01:32:11.379987Z",
     "start_time": "2022-01-06T01:32:11.374515Z"
    }
   },
   "outputs": [
    {
     "name": "stdout",
     "output_type": "stream",
     "text": [
      "['이정재', '정진영', '마동석', '유해진', '황정민', '류승룡', '설경구', '오달수', '김향기', '하정우', '송강호', '전지현']\n"
     ]
    }
   ],
   "source": [
    "## classes 순서를 잘 봐야 한다 \n",
    "c = os.listdir(\"data\")\n",
    "c.remove(\".DS_Store\") #['.DS_Store', '류승룡', '오달수']\n",
    "c.remove(\"poster\") #포스터는 실제 예측데이터로 쓸거야!\n",
    "print(c)"
   ]
  },
  {
   "cell_type": "code",
   "execution_count": 4,
   "id": "7bd260be",
   "metadata": {
    "ExecuteTime": {
     "end_time": "2022-01-06T01:32:12.290024Z",
     "start_time": "2022-01-06T01:32:12.269016Z"
    }
   },
   "outputs": [],
   "source": [
    "# 데이터를 떠먹여 줄 클래스를 제작합니다.\n",
    "class DataReader():\n",
    "    def __init__(self):\n",
    "        self.label = ['이정재', '정진영', '마동석', '유해진', '황정민', '류승룡', '설경구', '오달수', '김향기', '하정우', '송강호', '전지현']\n",
    "        \n",
    "        self.train_X = []\n",
    "        self.train_Y = []\n",
    "        self.test_X = []\n",
    "        self.test_Y = []\n",
    "        \n",
    "        self.read_images()\n",
    "\n",
    "    def read_images(self):\n",
    "        data = []\n",
    "        print(\"Reading Data...\")\n",
    "        classes = os.listdir(\"data\") # 순서에 따라 0~ 부여해야하므로 중요\n",
    "        classes.remove(\".DS_Store\") #['.DS_Store', '류승룡', '오달수']\n",
    "        classes.remove(\"poster\") #포스터는 실제 예측데이터로 쓸거야!\n",
    "        for i, cls in enumerate(classes):\n",
    "            print(\"Opening \" + cls + \"/\")\n",
    "            Path = os.listdir(\"data/\" + cls)\n",
    "            if \".DS_Store\" in Path:\n",
    "                Path.remove(\".DS_Store\")\n",
    "            for el in Path:\n",
    "                img = Image.open(\"data/\" + cls + \"/\" + el)\n",
    "                data.append((np.asarray(img), i))\n",
    "                img.close()\n",
    "\n",
    "        random.shuffle(data)\n",
    "\n",
    "        for i in range(len(data)):\n",
    "            if i < 0.8*len(data):\n",
    "                self.train_X.append(data[i][0])\n",
    "                self.train_Y.append(data[i][1])\n",
    "            else:\n",
    "                self.test_X.append(data[i][0])\n",
    "                self.test_Y.append(data[i][1])\n",
    "\n",
    "        self.train_X = np.asarray(self.train_X) / 255.0\n",
    "        self.train_Y = np.asarray(self.train_Y)\n",
    "        self.test_X = np.asarray(self.test_X) / 255.0\n",
    "        self.test_Y = np.asarray(self.test_Y)\n",
    "\n",
    "        # 데이터 읽기가 완료되었습니다.\n",
    "        # 읽어온 데이터의 정보를 출력합니다.\n",
    "        print(\"\\n\\nData Read Done!\")\n",
    "        print(\"Training X Size : \" + str(self.train_X.shape))\n",
    "        print(\"Training Y Size : \" + str(self.train_Y.shape))\n",
    "        print(\"Test X Size : \" + str(self.test_X.shape))\n",
    "        print(\"Test Y Size : \" + str(self.test_Y.shape) + '\\n\\n')\n",
    "\n",
    "    def show_processed_images(self):\n",
    "        plt.figure(figsize=(10, 10))\n",
    "        for i in range(25):\n",
    "            plt.subplot(5, 5, i + 1)\n",
    "            plt.xticks([])\n",
    "            plt.yticks([])\n",
    "            plt.grid(False)\n",
    "            plt.imshow(self.train_X[i], cmap=plt.cm.binary)\n",
    "            plt.xlabel(self.label[int(self.train_Y[i])])\n",
    "        plt.show()"
   ]
  },
  {
   "cell_type": "code",
   "execution_count": 5,
   "id": "a209a30b",
   "metadata": {
    "ExecuteTime": {
     "end_time": "2022-01-06T01:32:12.839708Z",
     "start_time": "2022-01-06T01:32:12.833306Z"
    }
   },
   "outputs": [],
   "source": [
    "def draw_graph(history):\n",
    "    train_history = history.history[\"loss\"]\n",
    "    validation_history = history.history[\"val_loss\"]\n",
    "    fig = plt.figure(figsize=(8, 8))\n",
    "    plt.title(\"Loss History\")\n",
    "    plt.xlabel(\"EPOCH\")\n",
    "    plt.ylabel(\"LOSS Function\")\n",
    "    plt.plot(train_history, \"red\")\n",
    "    plt.plot(validation_history, 'blue')\n",
    "    fig.savefig(\"train_history.png\")\n",
    "\n",
    "    train_history = history.history[\"accuracy\"]\n",
    "    validation_history = history.history[\"val_accuracy\"]\n",
    "    fig = plt.figure(figsize=(8, 8))\n",
    "    plt.title(\"Accuracy History\")\n",
    "    plt.xlabel(\"EPOCH\")\n",
    "    plt.ylabel(\"Accuracy\")\n",
    "    plt.plot(train_history, \"red\")\n",
    "    plt.plot(validation_history, 'blue')\n",
    "    fig.savefig(\"accuracy_history.png\")"
   ]
  },
  {
   "cell_type": "code",
   "execution_count": 6,
   "id": "b2b2ba24",
   "metadata": {
    "ExecuteTime": {
     "end_time": "2022-01-06T01:32:14.016361Z",
     "start_time": "2022-01-06T01:32:13.650819Z"
    },
    "scrolled": true
   },
   "outputs": [
    {
     "name": "stdout",
     "output_type": "stream",
     "text": [
      "Reading Data...\n",
      "Opening 이정재/\n",
      "Opening 정진영/\n",
      "Opening 마동석/\n",
      "Opening 유해진/\n",
      "Opening 황정민/\n",
      "Opening 류승룡/\n",
      "Opening 설경구/\n",
      "Opening 오달수/\n",
      "Opening 김향기/\n",
      "Opening 하정우/\n",
      "Opening 송강호/\n",
      "Opening 전지현/\n",
      "\n",
      "\n",
      "Data Read Done!\n",
      "Training X Size : (1375, 90, 60, 3)\n",
      "Training Y Size : (1375,)\n",
      "Test X Size : (343, 90, 60, 3)\n",
      "Test Y Size : (343,)\n",
      "\n",
      "\n"
     ]
    }
   ],
   "source": [
    "# 데이터를 읽어옵니다.\n",
    "dr = DataReader()"
   ]
  },
  {
   "cell_type": "code",
   "execution_count": 3,
   "id": "078b50c8",
   "metadata": {
    "ExecuteTime": {
     "end_time": "2022-01-28T00:41:34.780489Z",
     "start_time": "2022-01-28T00:41:34.762473Z"
    }
   },
   "outputs": [
    {
     "name": "stdout",
     "output_type": "stream",
     "text": [
      "Metal device set to: Apple M1\n"
     ]
    },
    {
     "name": "stderr",
     "output_type": "stream",
     "text": [
      "2022-01-28 09:41:34.773036: I tensorflow/core/common_runtime/pluggable_device/pluggable_device_factory.cc:305] Could not identify NUMA node of platform GPU ID 0, defaulting to 0. Your kernel may not have been built with NUMA support.\n",
      "2022-01-28 09:41:34.773208: I tensorflow/core/common_runtime/pluggable_device/pluggable_device_factory.cc:271] Created TensorFlow device (/job:localhost/replica:0/task:0/device:GPU:0 with 0 MB memory) -> physical PluggableDevice (device: 0, name: METAL, pci bus id: <undefined>)\n"
     ]
    }
   ],
   "source": [
    "# 인공신경망을 제작합니다.\n",
    "# 노가다 끝 신경망\n",
    "model = keras.Sequential([\n",
    "    keras.layers.Conv2D(32, (3, 3), activation=\"relu\"),\n",
    "    keras.layers.MaxPooling2D((2, 2)),\n",
    "    keras.layers.Dropout(0.2),\n",
    "    keras.layers.Conv2D(64, (3, 3), activation='relu'),\n",
    "    keras.layers.MaxPooling2D((2, 2)),\n",
    "    keras.layers.Dropout(0.2),\n",
    "    keras.layers.Conv2D(128, (3, 3), activation='relu'),\n",
    "    keras.layers.MaxPooling2D((2, 2)),\n",
    "    keras.layers.Dropout(0.2),\n",
    "    keras.layers.Conv2D(256, (3, 3), activation='relu'),\n",
    "    keras.layers.MaxPooling2D((2, 2)),\n",
    "    keras.layers.Dropout(0.2),\n",
    "    keras.layers.Flatten(),\n",
    "    keras.layers.Dense(512, activation='relu'),\n",
    "    keras.layers.Dropout(0.2),\n",
    "    keras.layers.Dense(256, activation='relu'),\n",
    "    keras.layers.Dropout(0.2),\n",
    "    keras.layers.Dense(12, activation=\"softmax\")\n",
    "])"
   ]
  },
  {
   "cell_type": "code",
   "execution_count": 5,
   "id": "503e1bb0",
   "metadata": {
    "ExecuteTime": {
     "end_time": "2022-01-28T00:42:41.140500Z",
     "start_time": "2022-01-28T00:42:40.930670Z"
    }
   },
   "outputs": [
    {
     "name": "stdout",
     "output_type": "stream",
     "text": [
      "Model: \"sequential\"\n",
      "_________________________________________________________________\n",
      " Layer (type)                Output Shape              Param #   \n",
      "=================================================================\n",
      " conv2d (Conv2D)             (None, 88, 58, 32)        896       \n",
      "                                                                 \n",
      " max_pooling2d (MaxPooling2D  (None, 44, 29, 32)       0         \n",
      " )                                                               \n",
      "                                                                 \n",
      " dropout (Dropout)           (None, 44, 29, 32)        0         \n",
      "                                                                 \n",
      " conv2d_1 (Conv2D)           (None, 42, 27, 64)        18496     \n",
      "                                                                 \n",
      " max_pooling2d_1 (MaxPooling  (None, 21, 13, 64)       0         \n",
      " 2D)                                                             \n",
      "                                                                 \n",
      " dropout_1 (Dropout)         (None, 21, 13, 64)        0         \n",
      "                                                                 \n",
      " conv2d_2 (Conv2D)           (None, 19, 11, 128)       73856     \n",
      "                                                                 \n",
      " max_pooling2d_2 (MaxPooling  (None, 9, 5, 128)        0         \n",
      " 2D)                                                             \n",
      "                                                                 \n",
      " dropout_2 (Dropout)         (None, 9, 5, 128)         0         \n",
      "                                                                 \n",
      " conv2d_3 (Conv2D)           (None, 7, 3, 256)         295168    \n",
      "                                                                 \n",
      " max_pooling2d_3 (MaxPooling  (None, 3, 1, 256)        0         \n",
      " 2D)                                                             \n",
      "                                                                 \n",
      " dropout_3 (Dropout)         (None, 3, 1, 256)         0         \n",
      "                                                                 \n",
      " flatten (Flatten)           (None, 768)               0         \n",
      "                                                                 \n",
      " dense (Dense)               (None, 512)               393728    \n",
      "                                                                 \n",
      " dropout_4 (Dropout)         (None, 512)               0         \n",
      "                                                                 \n",
      " dense_1 (Dense)             (None, 256)               131328    \n",
      "                                                                 \n",
      " dropout_5 (Dropout)         (None, 256)               0         \n",
      "                                                                 \n",
      " dense_2 (Dense)             (None, 12)                3084      \n",
      "                                                                 \n",
      "=================================================================\n",
      "Total params: 916,556\n",
      "Trainable params: 916,556\n",
      "Non-trainable params: 0\n",
      "_________________________________________________________________\n"
     ]
    }
   ],
   "source": [
    "import tensorflow as tf\n",
    "model = tf.keras.models.load_model('poster2.h5')\n",
    "\n",
    "model.summary()"
   ]
  },
  {
   "cell_type": "code",
   "execution_count": 8,
   "id": "7b49d4cc",
   "metadata": {
    "ExecuteTime": {
     "end_time": "2022-01-06T01:32:25.422327Z",
     "start_time": "2022-01-06T01:32:25.384545Z"
    }
   },
   "outputs": [],
   "source": [
    "# 인공신경망을 컴파일합니다.\n",
    "model.compile(optimizer='adam', metrics=['accuracy'],\n",
    "              loss='sparse_categorical_crossentropy')"
   ]
  },
  {
   "cell_type": "code",
   "execution_count": 9,
   "id": "393b835d",
   "metadata": {
    "ExecuteTime": {
     "end_time": "2022-01-06T01:32:26.802453Z",
     "start_time": "2022-01-06T01:32:26.799944Z"
    }
   },
   "outputs": [],
   "source": [
    "# 몇 에포크 만큼 학습을 시킬 것인지 결정합니다.\n",
    "EPOCHS = 50  # 예제 기본값은 50"
   ]
  },
  {
   "cell_type": "code",
   "execution_count": 10,
   "id": "93275dbc",
   "metadata": {
    "ExecuteTime": {
     "end_time": "2022-01-06T01:33:31.240655Z",
     "start_time": "2022-01-06T01:32:28.078295Z"
    }
   },
   "outputs": [
    {
     "name": "stdout",
     "output_type": "stream",
     "text": [
      "\n",
      "\n",
      "************ TRAINING START ************ \n",
      "Epoch 1/50\n"
     ]
    },
    {
     "name": "stderr",
     "output_type": "stream",
     "text": [
      "2022-01-06 10:32:28.170744: W tensorflow/core/platform/profile_utils/cpu_utils.cc:128] Failed to get CPU frequency: 0 Hz\n",
      "2022-01-06 10:32:28.411089: I tensorflow/core/grappler/optimizers/custom_graph_optimizer_registry.cc:112] Plugin optimizer for device_type GPU is enabled.\n"
     ]
    },
    {
     "name": "stdout",
     "output_type": "stream",
     "text": [
      "43/43 [==============================] - ETA: 0s - loss: 2.4797 - accuracy: 0.0844"
     ]
    },
    {
     "name": "stderr",
     "output_type": "stream",
     "text": [
      "2022-01-06 10:32:29.978365: I tensorflow/core/grappler/optimizers/custom_graph_optimizer_registry.cc:112] Plugin optimizer for device_type GPU is enabled.\n"
     ]
    },
    {
     "name": "stdout",
     "output_type": "stream",
     "text": [
      "43/43 [==============================] - 2s 35ms/step - loss: 2.4797 - accuracy: 0.0844 - val_loss: 2.4732 - val_accuracy: 0.1283\n",
      "Epoch 2/50\n",
      "43/43 [==============================] - 1s 29ms/step - loss: 2.4708 - accuracy: 0.0996 - val_loss: 2.4714 - val_accuracy: 0.1283\n",
      "Epoch 3/50\n",
      "43/43 [==============================] - 1s 29ms/step - loss: 2.4591 - accuracy: 0.1185 - val_loss: 2.4323 - val_accuracy: 0.1953\n",
      "Epoch 4/50\n",
      "43/43 [==============================] - 1s 29ms/step - loss: 2.3347 - accuracy: 0.1782 - val_loss: 2.2135 - val_accuracy: 0.2566\n",
      "Epoch 5/50\n",
      "43/43 [==============================] - 1s 28ms/step - loss: 2.1973 - accuracy: 0.2291 - val_loss: 2.1365 - val_accuracy: 0.2770\n",
      "Epoch 6/50\n",
      "43/43 [==============================] - 1s 28ms/step - loss: 2.0087 - accuracy: 0.3084 - val_loss: 1.9719 - val_accuracy: 0.3324\n",
      "Epoch 7/50\n",
      "43/43 [==============================] - 1s 28ms/step - loss: 1.8739 - accuracy: 0.3520 - val_loss: 1.7460 - val_accuracy: 0.3965\n",
      "Epoch 8/50\n",
      "43/43 [==============================] - 1s 28ms/step - loss: 1.6642 - accuracy: 0.4327 - val_loss: 1.5366 - val_accuracy: 0.4869\n",
      "Epoch 9/50\n",
      "43/43 [==============================] - 1s 29ms/step - loss: 1.5515 - accuracy: 0.4771 - val_loss: 1.5645 - val_accuracy: 0.4898\n",
      "Epoch 10/50\n",
      "43/43 [==============================] - 1s 28ms/step - loss: 1.4311 - accuracy: 0.4996 - val_loss: 1.4201 - val_accuracy: 0.5160\n",
      "Epoch 11/50\n",
      "43/43 [==============================] - 1s 29ms/step - loss: 1.2647 - accuracy: 0.5680 - val_loss: 1.2086 - val_accuracy: 0.5977\n",
      "Epoch 12/50\n",
      "43/43 [==============================] - 1s 29ms/step - loss: 1.0803 - accuracy: 0.6262 - val_loss: 1.1613 - val_accuracy: 0.6064\n",
      "Epoch 13/50\n",
      "43/43 [==============================] - 1s 28ms/step - loss: 0.9496 - accuracy: 0.6764 - val_loss: 0.9510 - val_accuracy: 0.6764\n",
      "Epoch 14/50\n",
      "43/43 [==============================] - 1s 28ms/step - loss: 0.8669 - accuracy: 0.6793 - val_loss: 0.8957 - val_accuracy: 0.6822\n",
      "Epoch 15/50\n",
      "43/43 [==============================] - 1s 29ms/step - loss: 0.7035 - accuracy: 0.7520 - val_loss: 0.7689 - val_accuracy: 0.7522\n",
      "Epoch 16/50\n",
      "43/43 [==============================] - 1s 29ms/step - loss: 0.6479 - accuracy: 0.7811 - val_loss: 0.8265 - val_accuracy: 0.7055\n",
      "Epoch 17/50\n",
      "43/43 [==============================] - 1s 29ms/step - loss: 0.5516 - accuracy: 0.8065 - val_loss: 0.6889 - val_accuracy: 0.7697\n",
      "Epoch 18/50\n",
      "43/43 [==============================] - 1s 29ms/step - loss: 0.4766 - accuracy: 0.8364 - val_loss: 0.7041 - val_accuracy: 0.7726\n",
      "Epoch 19/50\n",
      "43/43 [==============================] - 1s 29ms/step - loss: 0.4131 - accuracy: 0.8604 - val_loss: 0.6616 - val_accuracy: 0.7697\n",
      "Epoch 20/50\n",
      "43/43 [==============================] - 1s 29ms/step - loss: 0.3672 - accuracy: 0.8778 - val_loss: 0.6007 - val_accuracy: 0.7988\n",
      "Epoch 21/50\n",
      "43/43 [==============================] - 1s 29ms/step - loss: 0.3036 - accuracy: 0.8967 - val_loss: 0.6157 - val_accuracy: 0.7930\n",
      "Epoch 22/50\n",
      "43/43 [==============================] - 1s 29ms/step - loss: 0.2281 - accuracy: 0.9178 - val_loss: 0.5582 - val_accuracy: 0.8222\n",
      "Epoch 23/50\n",
      "43/43 [==============================] - 1s 29ms/step - loss: 0.2325 - accuracy: 0.9273 - val_loss: 0.5713 - val_accuracy: 0.8222\n",
      "Epoch 24/50\n",
      "43/43 [==============================] - 1s 29ms/step - loss: 0.2030 - accuracy: 0.9302 - val_loss: 0.5431 - val_accuracy: 0.8251\n",
      "Epoch 25/50\n",
      "43/43 [==============================] - 1s 29ms/step - loss: 0.1984 - accuracy: 0.9316 - val_loss: 0.5479 - val_accuracy: 0.8251\n",
      "Epoch 26/50\n",
      "43/43 [==============================] - 1s 29ms/step - loss: 0.1877 - accuracy: 0.9375 - val_loss: 0.4979 - val_accuracy: 0.8397\n",
      "Epoch 27/50\n",
      "43/43 [==============================] - 1s 29ms/step - loss: 0.1911 - accuracy: 0.9411 - val_loss: 0.5140 - val_accuracy: 0.8134\n",
      "Epoch 28/50\n",
      "43/43 [==============================] - 1s 29ms/step - loss: 0.1113 - accuracy: 0.9615 - val_loss: 0.5637 - val_accuracy: 0.8251\n",
      "Epoch 29/50\n",
      "43/43 [==============================] - 1s 29ms/step - loss: 0.1346 - accuracy: 0.9585 - val_loss: 0.7015 - val_accuracy: 0.8134\n",
      "Epoch 30/50\n",
      "43/43 [==============================] - 1s 29ms/step - loss: 0.1462 - accuracy: 0.9469 - val_loss: 0.5691 - val_accuracy: 0.8280\n",
      "Epoch 31/50\n",
      "43/43 [==============================] - 1s 29ms/step - loss: 0.0934 - accuracy: 0.9695 - val_loss: 0.6593 - val_accuracy: 0.8251\n",
      "Epoch 32/50\n",
      "43/43 [==============================] - 1s 31ms/step - loss: 0.1539 - accuracy: 0.9404 - val_loss: 0.7026 - val_accuracy: 0.8222\n",
      "Epoch 33/50\n",
      "43/43 [==============================] - 1s 29ms/step - loss: 0.1151 - accuracy: 0.9593 - val_loss: 0.5976 - val_accuracy: 0.8076\n",
      "Epoch 34/50\n",
      "43/43 [==============================] - 1s 30ms/step - loss: 0.1338 - accuracy: 0.9564 - val_loss: 0.7745 - val_accuracy: 0.7813\n",
      "Epoch 35/50\n",
      "43/43 [==============================] - 1s 30ms/step - loss: 0.1282 - accuracy: 0.9593 - val_loss: 0.5903 - val_accuracy: 0.8426\n",
      "Epoch 36/50\n",
      "43/43 [==============================] - 1s 30ms/step - loss: 0.0710 - accuracy: 0.9716 - val_loss: 0.6026 - val_accuracy: 0.8659\n",
      "Epoch 37/50\n",
      "43/43 [==============================] - 1s 29ms/step - loss: 0.1067 - accuracy: 0.9636 - val_loss: 0.5993 - val_accuracy: 0.8309\n",
      "Epoch 38/50\n",
      "43/43 [==============================] - 1s 29ms/step - loss: 0.0858 - accuracy: 0.9753 - val_loss: 0.5862 - val_accuracy: 0.8163\n",
      "Epoch 39/50\n",
      "43/43 [==============================] - 1s 29ms/step - loss: 0.0821 - accuracy: 0.9738 - val_loss: 0.5842 - val_accuracy: 0.8222\n",
      "Epoch 40/50\n",
      "43/43 [==============================] - 1s 29ms/step - loss: 0.0691 - accuracy: 0.9789 - val_loss: 0.5950 - val_accuracy: 0.8455\n",
      "Epoch 41/50\n",
      "43/43 [==============================] - 1s 29ms/step - loss: 0.0797 - accuracy: 0.9673 - val_loss: 0.6996 - val_accuracy: 0.8397\n",
      "Epoch 42/50\n",
      "43/43 [==============================] - 1s 29ms/step - loss: 0.0719 - accuracy: 0.9767 - val_loss: 0.8116 - val_accuracy: 0.8309\n",
      "Epoch 43/50\n",
      "43/43 [==============================] - 1s 29ms/step - loss: 0.1076 - accuracy: 0.9629 - val_loss: 0.8546 - val_accuracy: 0.8338\n",
      "Epoch 44/50\n",
      "43/43 [==============================] - 1s 29ms/step - loss: 0.0881 - accuracy: 0.9687 - val_loss: 0.5588 - val_accuracy: 0.8455\n",
      "Epoch 45/50\n",
      "43/43 [==============================] - 1s 29ms/step - loss: 0.0808 - accuracy: 0.9767 - val_loss: 0.7014 - val_accuracy: 0.8426\n",
      "Epoch 46/50\n",
      "43/43 [==============================] - 1s 30ms/step - loss: 0.0756 - accuracy: 0.9804 - val_loss: 0.5286 - val_accuracy: 0.8338\n",
      "Epoch 47/50\n",
      "43/43 [==============================] - 1s 29ms/step - loss: 0.0850 - accuracy: 0.9753 - val_loss: 0.6034 - val_accuracy: 0.8542\n",
      "Epoch 48/50\n",
      "43/43 [==============================] - 1s 29ms/step - loss: 0.0614 - accuracy: 0.9775 - val_loss: 0.5496 - val_accuracy: 0.8542\n",
      "Epoch 49/50\n",
      "43/43 [==============================] - 1s 30ms/step - loss: 0.0579 - accuracy: 0.9811 - val_loss: 0.5941 - val_accuracy: 0.8513\n",
      "Epoch 50/50\n",
      "43/43 [==============================] - 1s 30ms/step - loss: 0.0636 - accuracy: 0.9840 - val_loss: 0.5801 - val_accuracy: 0.8542\n"
     ]
    }
   ],
   "source": [
    "# 인공신경망을 학습시킵니다.\n",
    "print(\"\\n\\n************ TRAINING START ************ \")\n",
    "history = model.fit(dr.train_X, dr.train_Y, epochs=EPOCHS,\n",
    "                    validation_data=(dr.test_X, dr.test_Y))"
   ]
  },
  {
   "cell_type": "code",
   "execution_count": 11,
   "id": "c78ab46f",
   "metadata": {
    "ExecuteTime": {
     "end_time": "2022-01-06T01:33:31.390603Z",
     "start_time": "2022-01-06T01:33:31.243858Z"
    }
   },
   "outputs": [
    {
     "data": {
      "image/png": "[encoded data removed]",
      "text/plain": [
       "<Figure size 576x576 with 1 Axes>"
      ]
     },
     "metadata": {
      "needs_background": "light"
     },
     "output_type": "display_data"
    },
    {
     "data": {
      "image/png": "[encoded data removed]",
      "text/plain": [
       "<Figure size 576x576 with 1 Axes>"
      ]
     },
     "metadata": {
      "needs_background": "light"
     },
     "output_type": "display_data"
    }
   ],
   "source": [
    "# 학습 결과를 그래프로 출력합니다.\n",
    "draw_graph(history)"
   ]
  },
  {
   "cell_type": "code",
   "execution_count": 12,
   "id": "dddf1332",
   "metadata": {
    "ExecuteTime": {
     "end_time": "2022-01-06T01:33:31.455902Z",
     "start_time": "2022-01-06T01:33:31.397270Z"
    }
   },
   "outputs": [],
   "source": [
    "model.save('poster2.h5')"
   ]
  },
  {
   "cell_type": "code",
   "execution_count": 67,
   "id": "7748c25f",
   "metadata": {
    "ExecuteTime": {
     "end_time": "2022-01-06T22:54:17.669913Z",
     "start_time": "2022-01-06T22:54:17.547701Z"
    }
   },
   "outputs": [],
   "source": [
    "########예찬님 완성 모델 로드 #################\n",
    "\n",
    "import tensorflow as tf\n",
    "model = tf.keras.models.load_model('yechan2.h5')"
   ]
  },
  {
   "cell_type": "code",
   "execution_count": 68,
   "id": "afd20d8d",
   "metadata": {
    "ExecuteTime": {
     "end_time": "2022-01-06T22:54:18.034348Z",
     "start_time": "2022-01-06T22:54:18.025456Z"
    }
   },
   "outputs": [
    {
     "name": "stdout",
     "output_type": "stream",
     "text": [
      "Model: \"sequential_8\"\n",
      "_________________________________________________________________\n",
      " Layer (type)                Output Shape              Param #   \n",
      "=================================================================\n",
      " conv2d_32 (Conv2D)          (None, 58, 58, 16)        448       \n",
      "                                                                 \n",
      " max_pooling2d_32 (MaxPoolin  (None, 29, 29, 16)       0         \n",
      " g2D)                                                            \n",
      "                                                                 \n",
      " dropout_40 (Dropout)        (None, 29, 29, 16)        0         \n",
      "                                                                 \n",
      " conv2d_33 (Conv2D)          (None, 27, 27, 32)        4640      \n",
      "                                                                 \n",
      " max_pooling2d_33 (MaxPoolin  (None, 13, 13, 32)       0         \n",
      " g2D)                                                            \n",
      "                                                                 \n",
      " dropout_41 (Dropout)        (None, 13, 13, 32)        0         \n",
      "                                                                 \n",
      " conv2d_34 (Conv2D)          (None, 11, 11, 64)        18496     \n",
      "                                                                 \n",
      " max_pooling2d_34 (MaxPoolin  (None, 5, 5, 64)         0         \n",
      " g2D)                                                            \n",
      "                                                                 \n",
      " dropout_42 (Dropout)        (None, 5, 5, 64)          0         \n",
      "                                                                 \n",
      " conv2d_35 (Conv2D)          (None, 3, 3, 128)         73856     \n",
      "                                                                 \n",
      " max_pooling2d_35 (MaxPoolin  (None, 1, 1, 128)        0         \n",
      " g2D)                                                            \n",
      "                                                                 \n",
      " dropout_43 (Dropout)        (None, 1, 1, 128)         0         \n",
      "                                                                 \n",
      " dense_27 (Dense)            (None, 1, 1, 256)         33024     \n",
      "                                                                 \n",
      " flatten_8 (Flatten)         (None, 256)               0         \n",
      "                                                                 \n",
      " dense_28 (Dense)            (None, 128)               32896     \n",
      "                                                                 \n",
      " dropout_44 (Dropout)        (None, 128)               0         \n",
      "                                                                 \n",
      " dense_29 (Dense)            (None, 12)                1548      \n",
      "                                                                 \n",
      "=================================================================\n",
      "Total params: 164,908\n",
      "Trainable params: 164,908\n",
      "Non-trainable params: 0\n",
      "_________________________________________________________________\n"
     ]
    }
   ],
   "source": [
    "model.summary()"
   ]
  },
  {
   "cell_type": "code",
   "execution_count": 71,
   "id": "e086786a",
   "metadata": {
    "ExecuteTime": {
     "end_time": "2022-01-06T22:56:28.359836Z",
     "start_time": "2022-01-06T22:56:28.333490Z"
    }
   },
   "outputs": [],
   "source": [
    "## 예측용 데이터 불러오기\n",
    "path2 = 'data/poster/'\n",
    "file_list = os.listdir(path2)\n",
    "data2 = []\n",
    "count = 1\n",
    "for A in file_list:\n",
    "    if A == \".DS_Store\":\n",
    "        continue\n",
    "    poster = Image.open(path2+A)\n",
    "    data2.append(np.array(poster))\n",
    "    poster.close()\n",
    "\n",
    "## 이미지를 resize 해서 다시 실행하면 위 코드 다시 실행해봐도 array(array()) 이런 문제가 발생하지 않음!\n",
    "## ㄴopen 말고 cv2.imread() 로 읽어서 해결된듯"
   ]
  },
  {
   "cell_type": "code",
   "execution_count": 72,
   "id": "c605aafa",
   "metadata": {
    "ExecuteTime": {
     "end_time": "2022-01-06T22:56:29.126183Z",
     "start_time": "2022-01-06T22:56:29.121079Z"
    }
   },
   "outputs": [],
   "source": [
    "data2 = np.asarray(data2)/255.0"
   ]
  },
  {
   "cell_type": "code",
   "execution_count": 12,
   "id": "f5998f7c",
   "metadata": {
    "ExecuteTime": {
     "end_time": "2022-01-06T08:39:30.347213Z",
     "start_time": "2022-01-06T08:39:30.342760Z"
    }
   },
   "outputs": [
    {
     "name": "stdout",
     "output_type": "stream",
     "text": [
      "택시운전사_1.jpg\n",
      "극한직업_2.jpg\n",
      "극한직업_3.jpg\n",
      "신과함께_인과연_1.jpg\n",
      "신과함께_인과연_3.jpg\n",
      "암살_5.jpg\n",
      "극한직업_1.jpg\n",
      "암살_4.jpg\n",
      "신과함께_인과연_2.jpg\n",
      ".DS_Store\n",
      "부산행_3.jpg\n",
      "극한직업_4.jpg\n",
      "극한직업_5.jpg\n",
      "암살_1.jpg\n",
      "부산행_2.jpg\n",
      "신과함께_인과연_5.jpg\n",
      "암살_3.jpg\n",
      "암살_2.jpg\n",
      "부산행_1.jpg\n",
      "신과함께_인과연_4.jpg\n",
      "광해_3.jpg\n",
      "7번방_2.jpg\n",
      "신과함께_죄와벌_3.jpg\n",
      "신과함께_죄와벌_2.jpg\n",
      "7번방_3.jpg\n",
      "광해_2.jpg\n",
      "7번방_1.jpg\n",
      "신과함께_죄와벌_1.jpg\n",
      "광해_1.jpg\n",
      "7번방_4.jpg\n",
      "7번방_5.jpg\n",
      "신과함께_죄와벌_4.jpg\n",
      "변호인_2.jpg\n",
      "변호인_1.jpg\n"
     ]
    }
   ],
   "source": [
    "for x in file_list:\n",
    "    print(x)"
   ]
  },
  {
   "cell_type": "code",
   "execution_count": 69,
   "id": "025587fe",
   "metadata": {
    "ExecuteTime": {
     "end_time": "2022-01-06T22:54:37.481369Z",
     "start_time": "2022-01-06T22:54:37.083290Z"
    }
   },
   "outputs": [
    {
     "name": "stderr",
     "output_type": "stream",
     "text": [
      "2022-01-07 07:54:37.154837: I tensorflow/core/grappler/optimizers/custom_graph_optimizer_registry.cc:112] Plugin optimizer for device_type GPU is enabled.\n"
     ]
    }
   ],
   "source": [
    "predictions2 = model.predict(data2)"
   ]
  },
  {
   "cell_type": "code",
   "execution_count": null,
   "id": "574ac450",
   "metadata": {},
   "outputs": [],
   "source": [
    "#이정재 0\n",
    "#정진영 1\n",
    "#마동석 2\n",
    "#유해진 3\n",
    "#황정민 4\n",
    "#류승룡 5\n",
    "#설경구 6\n",
    "#오달수 7\n",
    "#김향기 8\n",
    "#하정우 9\n",
    "#송강호 10\n",
    "#전지현 11"
   ]
  },
  {
   "cell_type": "code",
   "execution_count": 70,
   "id": "66f22482",
   "metadata": {
    "ExecuteTime": {
     "end_time": "2022-01-06T22:54:51.067032Z",
     "start_time": "2022-01-06T22:54:51.055464Z"
    }
   },
   "outputs": [
    {
     "name": "stdout",
     "output_type": "stream",
     "text": [
      "['택시운전사_1.jpg', '극한직업_2.jpg', '극한직업_3.jpg', '신과함께_인과연_1.jpg', '신과함께_인과연_3.jpg', '암살_5.jpg', '극한직업_1.jpg', '암살_4.jpg', '신과함께_인과연_2.jpg', '.DS_Store', '부산행_3.jpg', '극한직업_4.jpg', '극한직업_5.jpg', '암살_1.jpg', '부산행_2.jpg', '신과함께_인과연_5.jpg', '암살_3.jpg', '암살_2.jpg', '부산행_1.jpg', '신과함께_인과연_4.jpg', '광해_3.jpg', '7번방_2.jpg', '신과함께_죄와벌_3.jpg', '신과함께_죄와벌_2.jpg', '7번방_3.jpg', '광해_2.jpg', '7번방_1.jpg', '신과함께_죄와벌_1.jpg', '광해_1.jpg', '7번방_4.jpg', '7번방_5.jpg', '신과함께_죄와벌_4.jpg', '변호인_2.jpg', '변호인_1.jpg']\n",
      "5번째 사진: 암살_5.jpg 유해진\n",
      "8번째 사진: 신과함께_인과연_2.jpg 설경구\n",
      "11번째 사진: 극한직업_4.jpg 설경구\n",
      "14번째 사진: 부산행_2.jpg 마동석\n",
      "15번째 사진: 신과함께_인과연_5.jpg 하정우\n",
      "16번째 사진: 암살_3.jpg 송강호\n",
      "19번째 사진: 신과함께_인과연_4.jpg 류승룡\n",
      "22번째 사진: 신과함께_죄와벌_3.jpg 마동석\n",
      "25번째 사진: 광해_2.jpg 오달수\n",
      "28번째 사진: 광해_1.jpg 마동석\n"
     ]
    }
   ],
   "source": [
    "# 리스트 순서에 맞게 \n",
    "print(file_list)\n",
    "actor = {0:\"이정재\",1:\"정진영\",2:\"마동석\",3:\"유해진\",4:\"황정민\",5:\"류승룡\",6:\"설경구\",7:\"오달수\",8:\"김향기\",\n",
    "        9:\"하정우\",10:\"송강호\",11:\"전지현\"}\n",
    "for i, x in enumerate(predictions2):\n",
    "    count = 0\n",
    "    for y in x:\n",
    "        if y > 0.9:\n",
    "            count += 1\n",
    "    if count > 0:\n",
    "        print(str(i)+\"번째 사진: \"+file_list[i], actor[np.argmax(x)])            \n",
    "    \n",
    "# y[0~11]까지 전부 0.8 미만이면 출력하지말기\n",
    "\n",
    "# y[0~11]까지 하나라도 0.8이상이면 출력하기\n",
    "#print(np.argmax(x))"
   ]
  },
  {
   "cell_type": "code",
   "execution_count": 19,
   "id": "ad9e31b3",
   "metadata": {
    "ExecuteTime": {
     "end_time": "2022-01-06T01:34:08.859600Z",
     "start_time": "2022-01-06T01:34:08.849086Z"
    }
   },
   "outputs": [
    {
     "name": "stdout",
     "output_type": "stream",
     "text": [
      "0 [2.63448273e-05 1.95662994e-02 1.57698396e-05 2.67538038e-04\n",
      " 1.41475375e-05 9.66618791e-06 2.84652933e-02 8.42470690e-05\n",
      " 5.57840765e-02 1.77400857e-02 8.78024757e-01 1.83405132e-06]\n",
      "1 [9.04502034e-01 6.22426342e-06 1.43242476e-08 7.53212726e-06\n",
      " 3.14461044e-03 3.59375804e-06 4.55994494e-02 1.02030015e-07\n",
      " 1.54502181e-04 4.64150012e-02 1.72752863e-07 1.66721482e-04]\n",
      "2 [1.7647415e-04 1.0269237e-03 3.9411510e-09 2.5246018e-07 1.7786748e-04\n",
      " 1.6624836e-03 1.3092136e-01 4.7917905e-07 1.1524364e-07 8.6603391e-01\n",
      " 2.7881779e-09 7.5556457e-08]\n",
      "3 [2.3670373e-03 9.8822242e-01 2.0896747e-13 2.4376741e-09 9.3796095e-03\n",
      " 5.8704941e-08 1.9794420e-06 7.0646403e-14 2.2247166e-08 2.9002711e-05\n",
      " 1.5198768e-11 1.1234562e-09]\n",
      "4 [3.5062884e-13 4.3005869e-03 1.1029979e-07 5.5605710e-06 2.4355291e-09\n",
      " 7.9829915e-10 2.3892563e-10 4.5647357e-12 1.7699094e-10 1.2110020e-06\n",
      " 9.9569255e-01 3.0027126e-17]\n",
      "5 [1.9774124e-01 1.5707951e-04 2.7535787e-08 3.4690937e-01 3.4991693e-01\n",
      " 2.8084960e-06 1.6153537e-02 8.8914976e-02 5.5513821e-05 1.0956467e-06\n",
      " 9.7269869e-05 5.0181588e-05]\n",
      "6 [2.7352595e-04 8.9485133e-01 2.7511454e-12 8.4095229e-09 3.4164648e-05\n",
      " 6.8586751e-08 1.2960153e-03 8.0553408e-10 9.4840406e-03 9.4060577e-02\n",
      " 2.1031285e-07 7.3081942e-08]\n",
      "7 [2.3404120e-01 2.3522691e-05 2.9383060e-07 3.9857453e-01 3.6285725e-01\n",
      " 2.6602635e-05 4.0849126e-03 8.2180122e-08 6.8330030e-07 1.1513258e-04\n",
      " 9.8498182e-05 1.7727888e-04]\n",
      "8 [7.1693264e-19 3.0923098e-07 2.4614542e-09 1.4396906e-11 2.2721524e-16\n",
      " 1.9969779e-14 2.4097716e-13 2.8586227e-14 9.5314605e-14 3.8052868e-08\n",
      " 9.9999964e-01 1.6532715e-22]\n",
      "9 [5.9848098e-06 1.1303046e-03 1.2562167e-07 3.4840141e-05 1.4392877e-04\n",
      " 1.0562026e-03 7.4323499e-01 2.3508858e-04 7.3609749e-06 2.5411227e-01\n",
      " 3.7462934e-05 1.4882420e-06]\n"
     ]
    }
   ],
   "source": [
    "for i, x in enumerate(predictions2):\n",
    "    print(i,x)"
   ]
  },
  {
   "cell_type": "code",
   "execution_count": 52,
   "id": "eb627e55",
   "metadata": {
    "ExecuteTime": {
     "end_time": "2022-01-06T00:51:32.510480Z",
     "start_time": "2022-01-06T00:51:32.506140Z"
    }
   },
   "outputs": [
    {
     "data": {
      "text/plain": [
       "1"
      ]
     },
     "execution_count": 52,
     "metadata": {},
     "output_type": "execute_result"
    }
   ],
   "source": [
    "predictions2[0].argmax()"
   ]
  },
  {
   "cell_type": "code",
   "execution_count": null,
   "id": "2dd9f011",
   "metadata": {},
   "outputs": [],
   "source": [
    "############### 그 외 ####################"
   ]
  },
  {
   "cell_type": "code",
   "execution_count": 52,
   "id": "65e9cf84",
   "metadata": {
    "ExecuteTime": {
     "end_time": "2022-01-06T22:50:25.879941Z",
     "start_time": "2022-01-06T22:50:25.698181Z"
    }
   },
   "outputs": [
    {
     "name": "stdout",
     "output_type": "stream",
     "text": [
      "Metal device set to: Apple M1\n"
     ]
    },
    {
     "name": "stderr",
     "output_type": "stream",
     "text": [
      "2022-01-07 07:50:25.730289: I tensorflow/core/common_runtime/pluggable_device/pluggable_device_factory.cc:305] Could not identify NUMA node of platform GPU ID 0, defaulting to 0. Your kernel may not have been built with NUMA support.\n",
      "2022-01-07 07:50:25.730855: I tensorflow/core/common_runtime/pluggable_device/pluggable_device_factory.cc:271] Created TensorFlow device (/job:localhost/replica:0/task:0/device:GPU:0 with 0 MB memory) -> physical PluggableDevice (device: 0, name: METAL, pci bus id: <undefined>)\n"
     ]
    }
   ],
   "source": [
    "## 저장한 모델을 다시 불러와보자\n",
    "\n",
    "from keras.models import load_model\n",
    "model = load_model('poster.h5')"
   ]
  },
  {
   "cell_type": "code",
   "execution_count": 74,
   "id": "9c107f8e",
   "metadata": {
    "ExecuteTime": {
     "end_time": "2022-01-06T22:59:02.800655Z",
     "start_time": "2022-01-06T22:59:02.793632Z"
    }
   },
   "outputs": [
    {
     "name": "stdout",
     "output_type": "stream",
     "text": [
      "이정재 0\n",
      "정진영 1\n",
      "마동석 2\n",
      "유해진 3\n",
      "황정민 4\n",
      "류승룡 5\n",
      "설경구 6\n",
      "오달수 7\n",
      "김향기 8\n",
      "하정우 9\n",
      "송강호 10\n",
      "전지현 11\n"
     ]
    }
   ],
   "source": [
    "classes2 = os.listdir(\"data\") # 순서에 따라 0~ 부여해야하므로 중요\n",
    "classes2.remove(\".DS_Store\") #['.DS_Store', '류승룡', '오달수']\n",
    "classes2.remove(\"poster\") #포스터는 실제 예측데이터로 쓸거야!\n",
    "for i, cls in enumerate(classes2):\n",
    "    print(cls,i)\n",
    "    '''Path = os.listdir(\"data/\" + cls)\n",
    "    if \".DS_Store\" in Path:\n",
    "        Path.remove(\".DS_Store\")\n",
    "    for el in Path:\n",
    "        img = Image.open(\"data/\" + cls + \"/\" + el)\n",
    "        data.append((np.asarray(img), i))\n",
    "        img.close()'''"
   ]
  },
  {
   "cell_type": "code",
   "execution_count": null,
   "id": "c4e64a12",
   "metadata": {},
   "outputs": [],
   "source": []
  }
 ],
 "metadata": {
  "kernelspec": {
   "display_name": "Python 3 (ipykernel)",
   "language": "python",
   "name": "python3"
  },
  "language_info": {
   "codemirror_mode": {
    "name": "ipython",
    "version": 3
   },
   "file_extension": ".py",
   "mimetype": "text/x-python",
   "name": "python",
   "nbconvert_exporter": "python",
   "pygments_lexer": "ipython3",
   "version": "3.9.9"
  },
  "toc": {
   "base_numbering": 1,
   "nav_menu": {},
   "number_sections": true,
   "sideBar": true,
   "skip_h1_title": false,
   "title_cell": "Table of Contents",
   "title_sidebar": "Contents",
   "toc_cell": false,
   "toc_position": {},
   "toc_section_display": true,
   "toc_window_display": false
  },
  "varInspector": {
   "cols": {
    "lenName": 16,
    "lenType": 16,
    "lenVar": 40
   },
   "kernels_config": {
    "python": {
     "delete_cmd_postfix": "",
     "delete_cmd_prefix": "del ",
     "library": "var_list.py",
     "varRefreshCmd": "print(var_dic_list())"
    },
    "r": {
     "delete_cmd_postfix": ") ",
     "delete_cmd_prefix": "rm(",
     "library": "var_list.r",
     "varRefreshCmd": "cat(var_dic_list()) "
    }
   },
   "types_to_exclude": [
    "module",
    "function",
    "builtin_function_or_method",
    "instance",
    "_Feature"
   ],
   "window_display": false
  }
 },
 "nbformat": 4,
 "nbformat_minor": 5
}
