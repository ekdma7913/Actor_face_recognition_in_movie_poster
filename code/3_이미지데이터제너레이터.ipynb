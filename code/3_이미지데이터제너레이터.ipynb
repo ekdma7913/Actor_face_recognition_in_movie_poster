{
 "cells": [
  {
   "cell_type": "code",
   "execution_count": 1,
   "id": "e55f9088",
   "metadata": {
    "ExecuteTime": {
     "end_time": "2022-01-06T01:22:10.288439Z",
     "start_time": "2022-01-06T01:22:07.661780Z"
    }
   },
   "outputs": [],
   "source": [
    "import cv2\n",
    "from numpy import expand_dims\n",
    "from keras.preprocessing.image import img_to_array\n",
    "from keras.preprocessing.image import load_img\n",
    "from keras.preprocessing.image import ImageDataGenerator\n",
    "from matplotlib import pyplot as plt\n",
    "\n",
    "import os"
   ]
  },
  {
   "cell_type": "code",
   "execution_count": 2,
   "id": "3cdd6a19",
   "metadata": {
    "ExecuteTime": {
     "end_time": "2022-01-06T01:22:23.588420Z",
     "start_time": "2022-01-06T01:22:23.579985Z"
    }
   },
   "outputs": [],
   "source": [
    "def create_image(gen_data, filepath, cnt):\n",
    "    samples = expand_dims(gen_data, 0)\n",
    "    datagen = ImageDataGenerator(#width_shift_range = [-10, 10],\n",
    "                                 #height_shift_range = [-10, 10],\n",
    "                                rotation_range = -10, horizontal_flip=True)\n",
    "\n",
    "    it = datagen.flow(samples, batch_size = 1)\n",
    "    fig = plt.figure(figsize = (60, 90))\n",
    "\n",
    "    batch = it.next()\n",
    "    image = batch[0].astype('uint8')\n",
    "    image = cv2.cvtColor(image, cv2.COLOR_RGB2BGR)\n",
    "    cv2.imwrite(filepath + \"gen_\" + str(cnt) + \"_\" + str(i) + \".jpg\", image)"
   ]
  },
  {
   "cell_type": "code",
   "execution_count": null,
   "id": "ef1ed39e",
   "metadata": {},
   "outputs": [],
   "source": [
    "folder_list = os.listdir(\"data/\")\n",
    "folder_list.remove(\".DS_Store\")\n",
    "folder_list.remove(\"poster\")\n",
    "## 유해진만 jpeg여서 -> Jpg 로 변경 했음\n",
    "for X in folder_list:\n",
    "    folder2_list = os.listdir(\"data/\"+X+\"/\")\n",
    "    #folder2_list.remove(\".DS_Store\")\n",
    "    for i in range(1,len(folder2_list)): #이미 늘린 데이터가 많아서 따로 개수를 지정해야할듯\n",
    "        filepath = \"data/\"+X+\"/\"\n",
    "        genimg = load_img(filepath + \"b\"+ str(i) + \".jpg\")\n",
    "        gen_data = img_to_array(genimg)\n",
    "        create_image(gen_data, filepath+, i)"
   ]
  },
  {
   "cell_type": "code",
   "execution_count": 39,
   "id": "64815789",
   "metadata": {
    "ExecuteTime": {
     "end_time": "2022-01-04T09:53:29.813356Z",
     "start_time": "2022-01-04T09:53:29.809127Z"
    }
   },
   "outputs": [],
   "source": [
    "## 파일 ex)유해진 : jpeg -> jpg\n",
    "import os\n",
    "import glob\n",
    "\n",
    "folder_list2 = glob.glob(\"data/\"+\"유해진\"+\"/*.jpeg\")"
   ]
  },
  {
   "cell_type": "code",
   "execution_count": 41,
   "id": "71764917",
   "metadata": {
    "ExecuteTime": {
     "end_time": "2022-01-04T09:54:22.087711Z",
     "start_time": "2022-01-04T09:54:22.067543Z"
    }
   },
   "outputs": [],
   "source": [
    "for name in folder_list2:\n",
    "    if not os.path.isdir(name):\n",
    "        src = os.path.splitext(name)\n",
    "        os.rename(name,src[0]+\".jpg\")\n"
   ]
  },
  {
   "cell_type": "code",
   "execution_count": null,
   "id": "d4a1d723",
   "metadata": {},
   "outputs": [],
   "source": []
  }
 ],
 "metadata": {
  "kernelspec": {
   "display_name": "Python 3 (ipykernel)",
   "language": "python",
   "name": "python3"
  },
  "language_info": {
   "codemirror_mode": {
    "name": "ipython",
    "version": 3
   },
   "file_extension": ".py",
   "mimetype": "text/x-python",
   "name": "python",
   "nbconvert_exporter": "python",
   "pygments_lexer": "ipython3",
   "version": "3.9.9"
  },
  "nbTranslate": {
   "displayLangs": [
    "*"
   ],
   "hotkey": "alt-t",
   "langInMainMenu": true,
   "sourceLang": "en",
   "targetLang": "fr",
   "useGoogleTranslate": true
  },
  "toc": {
   "base_numbering": 1,
   "nav_menu": {},
   "number_sections": true,
   "sideBar": true,
   "skip_h1_title": false,
   "title_cell": "Table of Contents",
   "title_sidebar": "Contents",
   "toc_cell": false,
   "toc_position": {},
   "toc_section_display": true,
   "toc_window_display": false
  },
  "varInspector": {
   "cols": {
    "lenName": 16,
    "lenType": 16,
    "lenVar": 40
   },
   "kernels_config": {
    "python": {
     "delete_cmd_postfix": "",
     "delete_cmd_prefix": "del ",
     "library": "var_list.py",
     "varRefreshCmd": "print(var_dic_list())"
    },
    "r": {
     "delete_cmd_postfix": ") ",
     "delete_cmd_prefix": "rm(",
     "library": "var_list.r",
     "varRefreshCmd": "cat(var_dic_list()) "
    }
   },
   "types_to_exclude": [
    "module",
    "function",
    "builtin_function_or_method",
    "instance",
    "_Feature"
   ],
   "window_display": false
  }
 },
 "nbformat": 4,
 "nbformat_minor": 5
}
